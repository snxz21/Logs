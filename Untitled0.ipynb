{
  "nbformat": 4,
  "nbformat_minor": 0,
  "metadata": {
    "colab": {
      "name": "Untitled0.ipynb",
      "provenance": [],
      "authorship_tag": "ABX9TyNF1/p9xEooH9Ey/FQOLal1",
      "include_colab_link": true
    },
    "kernelspec": {
      "name": "python3",
      "display_name": "Python 3"
    }
  },
  "cells": [
    {
      "cell_type": "markdown",
      "metadata": {
        "id": "view-in-github",
        "colab_type": "text"
      },
      "source": [
        "<a href=\"https://colab.research.google.com/github/snxz21/Logs/blob/master/Untitled0.ipynb\" target=\"_parent\"><img src=\"https://colab.research.google.com/assets/colab-badge.svg\" alt=\"Open In Colab\"/></a>"
      ]
    },
    {
      "cell_type": "code",
      "metadata": {
        "id": "wMCfYEBguL-7",
        "colab_type": "code",
        "colab": {}
      },
      "source": [
        "logs = []\n",
        "with open(\"logs.txt\", \"r\") as file:\n",
        "    for line in file:\n",
        "        logs.append(line)"
      ],
      "execution_count": 5,
      "outputs": []
    },
    {
      "cell_type": "code",
      "metadata": {
        "id": "toDd2flkuMiU",
        "colab_type": "code",
        "colab": {
          "base_uri": "https://localhost:8080/",
          "height": 35
        },
        "outputId": "820bb66e-8c8b-4694-e59a-6b911474924f"
      },
      "source": [
        "logs[0][logs[0].find(\"|\")+1:]"
      ],
      "execution_count": 9,
      "outputs": [
        {
          "output_type": "execute_result",
          "data": {
            "application/vnd.google.colaboratory.intrinsic+json": {
              "type": "string"
            },
            "text/plain": [
              "' 2018-08-01 00:01:35 [YQ4WUDJV] INFO: 121.165.118.201 https://all_to_the_bottom.com/\\n'"
            ]
          },
          "metadata": {
            "tags": []
          },
          "execution_count": 9
        }
      ]
    },
    {
      "cell_type": "code",
      "metadata": {
        "id": "9526PXYLupVl",
        "colab_type": "code",
        "colab": {}
      },
      "source": [
        "import pandas as pd\n",
        "import datetime as DT\n",
        "from datetime import timedelta"
      ],
      "execution_count": 32,
      "outputs": []
    },
    {
      "cell_type": "code",
      "metadata": {
        "id": "_NWgCt7uxZqQ",
        "colab_type": "code",
        "colab": {
          "base_uri": "https://localhost:8080/",
          "height": 238
        },
        "outputId": "3662c3ee-b061-49ff-dd57-05be12cca843"
      },
      "source": [
        "logs[0].split(\" \")"
      ],
      "execution_count": 35,
      "outputs": [
        {
          "output_type": "execute_result",
          "data": {
            "text/plain": [
              "['shop_api',\n",
              " '',\n",
              " '',\n",
              " '',\n",
              " '',\n",
              " '',\n",
              " '|',\n",
              " '2018-08-01',\n",
              " '00:01:35',\n",
              " '[YQ4WUDJV]',\n",
              " 'INFO:',\n",
              " '121.165.118.201',\n",
              " 'https://all_to_the_bottom.com/\\n']"
            ]
          },
          "metadata": {
            "tags": []
          },
          "execution_count": 35
        }
      ]
    },
    {
      "cell_type": "code",
      "metadata": {
        "id": "KhKMh9WPu70Q",
        "colab_type": "code",
        "colab": {
          "base_uri": "https://localhost:8080/",
          "height": 34
        },
        "outputId": "f255f474-5979-4f9f-e1ce-aab25a9c7ea8"
      },
      "source": [
        "logs[0].split(\" \")[0], logs[0].split(\" \")[-6], logs[0].split(\" \")[-5]"
      ],
      "execution_count": 19,
      "outputs": [
        {
          "output_type": "execute_result",
          "data": {
            "text/plain": [
              "('shop_api', '2018-08-01', '00:01:35')"
            ]
          },
          "metadata": {
            "tags": []
          },
          "execution_count": 19
        }
      ]
    },
    {
      "cell_type": "code",
      "metadata": {
        "id": "IPDfgMiMvsel",
        "colab_type": "code",
        "colab": {
          "base_uri": "https://localhost:8080/",
          "height": 35
        },
        "outputId": "510c1e4a-a276-44f5-c282-ae62c19635db"
      },
      "source": [
        "dt_fmt = '%Y-%m-%d %H:%M:%S'\n",
        "\n",
        "(DT.datetime.strptime(logs[0].split(\" \")[-6] + \" \" + logs[0].split(\" \")[-5], dt_fmt) + timedelta(hours=0)).strftime(dt_fmt)"
      ],
      "execution_count": 34,
      "outputs": [
        {
          "output_type": "execute_result",
          "data": {
            "application/vnd.google.colaboratory.intrinsic+json": {
              "type": "string"
            },
            "text/plain": [
              "'2018-08-01 00:01:35'"
            ]
          },
          "metadata": {
            "tags": []
          },
          "execution_count": 34
        }
      ]
    },
    {
      "cell_type": "code",
      "metadata": {
        "id": "CKpAm-tfwj1c",
        "colab_type": "code",
        "colab": {
          "base_uri": "https://localhost:8080/",
          "height": 34
        },
        "outputId": "d0bb0664-a08f-4722-d411-51fd489ebb92"
      },
      "source": [
        "api = []\n",
        "time = []\n",
        "code = []\n",
        "info = []\n",
        "ip = []\n",
        "link = []\n",
        "for i in range(len(logs)):\n",
        "  api.append(logs[i].split(\" \")[0])\n",
        "  time.append((DT.datetime.strptime(logs[i].split(\" \")[-6] + \" \" + logs[i].split(\" \")[-5], dt_fmt) + timedelta(hours=0)).strftime(dt_fmt))\n",
        "  code.append(logs[i].split(\" \")[-4])\n",
        "  info.append(logs[i].split(\" \")[-3])\n",
        "  ip.append(logs[i].split(\" \")[-2])\n",
        "  link.append(logs[i].split(\" \")[-1])\n",
        "\n",
        "len(link), len(api)"
      ],
      "execution_count": 37,
      "outputs": [
        {
          "output_type": "execute_result",
          "data": {
            "text/plain": [
              "(24284, 24284)"
            ]
          },
          "metadata": {
            "tags": []
          },
          "execution_count": 37
        }
      ]
    },
    {
      "cell_type": "code",
      "metadata": {
        "id": "aFQYgnSQx-rO",
        "colab_type": "code",
        "colab": {
          "base_uri": "https://localhost:8080/",
          "height": 204
        },
        "outputId": "e5600e45-6482-4d96-9bbd-07875c81a301"
      },
      "source": [
        "df = pd.DataFrame({'api': api, 'time': time, 'code': code, 'infos':info, 'ip':ip, 'link': link})\n",
        "df.head()"
      ],
      "execution_count": 89,
      "outputs": [
        {
          "output_type": "execute_result",
          "data": {
            "text/html": [
              "<div>\n",
              "<style scoped>\n",
              "    .dataframe tbody tr th:only-of-type {\n",
              "        vertical-align: middle;\n",
              "    }\n",
              "\n",
              "    .dataframe tbody tr th {\n",
              "        vertical-align: top;\n",
              "    }\n",
              "\n",
              "    .dataframe thead th {\n",
              "        text-align: right;\n",
              "    }\n",
              "</style>\n",
              "<table border=\"1\" class=\"dataframe\">\n",
              "  <thead>\n",
              "    <tr style=\"text-align: right;\">\n",
              "      <th></th>\n",
              "      <th>api</th>\n",
              "      <th>time</th>\n",
              "      <th>code</th>\n",
              "      <th>infos</th>\n",
              "      <th>ip</th>\n",
              "      <th>link</th>\n",
              "    </tr>\n",
              "  </thead>\n",
              "  <tbody>\n",
              "    <tr>\n",
              "      <th>0</th>\n",
              "      <td>shop_api</td>\n",
              "      <td>2018-08-01 00:01:35</td>\n",
              "      <td>[YQ4WUDJV]</td>\n",
              "      <td>INFO:</td>\n",
              "      <td>121.165.118.201</td>\n",
              "      <td>https://all_to_the_bottom.com/\\n</td>\n",
              "    </tr>\n",
              "    <tr>\n",
              "      <th>1</th>\n",
              "      <td>shop_api</td>\n",
              "      <td>2018-08-01 00:01:47</td>\n",
              "      <td>[E522JAEQ]</td>\n",
              "      <td>INFO:</td>\n",
              "      <td>121.165.118.201</td>\n",
              "      <td>https://all_to_the_bottom.com/fresh_fish/\\n</td>\n",
              "    </tr>\n",
              "    <tr>\n",
              "      <th>2</th>\n",
              "      <td>shop_api</td>\n",
              "      <td>2018-08-01 00:03:02</td>\n",
              "      <td>[BHWP66G8]</td>\n",
              "      <td>INFO:</td>\n",
              "      <td>121.165.118.201</td>\n",
              "      <td>https://all_to_the_bottom.com/\\n</td>\n",
              "    </tr>\n",
              "    <tr>\n",
              "      <th>3</th>\n",
              "      <td>shop_api</td>\n",
              "      <td>2018-08-01 00:04:27</td>\n",
              "      <td>[C0182Y6W]</td>\n",
              "      <td>INFO:</td>\n",
              "      <td>121.165.118.201</td>\n",
              "      <td>https://all_to_the_bottom.com/canned_food/\\n</td>\n",
              "    </tr>\n",
              "    <tr>\n",
              "      <th>4</th>\n",
              "      <td>shop_api</td>\n",
              "      <td>2018-08-01 00:05:55</td>\n",
              "      <td>[OJKTKNP6]</td>\n",
              "      <td>INFO:</td>\n",
              "      <td>121.165.118.201</td>\n",
              "      <td>https://all_to_the_bottom.com/\\n</td>\n",
              "    </tr>\n",
              "  </tbody>\n",
              "</table>\n",
              "</div>"
            ],
            "text/plain": [
              "        api  ...                                          link\n",
              "0  shop_api  ...              https://all_to_the_bottom.com/\\n\n",
              "1  shop_api  ...   https://all_to_the_bottom.com/fresh_fish/\\n\n",
              "2  shop_api  ...              https://all_to_the_bottom.com/\\n\n",
              "3  shop_api  ...  https://all_to_the_bottom.com/canned_food/\\n\n",
              "4  shop_api  ...              https://all_to_the_bottom.com/\\n\n",
              "\n",
              "[5 rows x 6 columns]"
            ]
          },
          "metadata": {
            "tags": []
          },
          "execution_count": 89
        }
      ]
    },
    {
      "cell_type": "code",
      "metadata": {
        "id": "-BYuviLp0_G_",
        "colab_type": "code",
        "colab": {
          "base_uri": "https://localhost:8080/",
          "height": 34
        },
        "outputId": "9ea182e3-3b9f-4e81-b100-c60a278fa29e"
      },
      "source": [
        "df['time'] = pd.to_datetime(df['time'], format='%Y-%m-%d %H:%M:%S')\n",
        "df['time'][0]"
      ],
      "execution_count": 90,
      "outputs": [
        {
          "output_type": "execute_result",
          "data": {
            "text/plain": [
              "Timestamp('2018-08-01 00:01:35')"
            ]
          },
          "metadata": {
            "tags": []
          },
          "execution_count": 90
        }
      ]
    },
    {
      "cell_type": "code",
      "metadata": {
        "id": "1G54gRA32Q1_",
        "colab_type": "code",
        "colab": {
          "base_uri": "https://localhost:8080/",
          "height": 153
        },
        "outputId": "53ff4c70-7060-4c50-f4b8-14aa853bfd26"
      },
      "source": [
        "df['hours'] =df['time'].dt.hour\n",
        "df.loc[100]"
      ],
      "execution_count": 91,
      "outputs": [
        {
          "output_type": "execute_result",
          "data": {
            "text/plain": [
              "api                                     shop_api\n",
              "time                         2018-08-01 01:25:42\n",
              "code                                  [QP986QC6]\n",
              "infos                                      INFO:\n",
              "ip                                237.206.96.214\n",
              "link     https://all_to_the_bottom.com/caviar/\\n\n",
              "hours                                          1\n",
              "Name: 100, dtype: object"
            ]
          },
          "metadata": {
            "tags": []
          },
          "execution_count": 91
        }
      ]
    },
    {
      "cell_type": "code",
      "metadata": {
        "id": "vBCl3S0j1h2n",
        "colab_type": "code",
        "colab": {
          "base_uri": "https://localhost:8080/",
          "height": 459
        },
        "outputId": "d135e85d-9af8-4836-80f3-3d1007977dd3"
      },
      "source": [
        "df.groupby('hours')['code'].count()"
      ],
      "execution_count": 150,
      "outputs": [
        {
          "output_type": "execute_result",
          "data": {
            "text/plain": [
              "hours\n",
              "0     1051\n",
              "1     1093\n",
              "2     1080\n",
              "3     1075\n",
              "4     1058\n",
              "5     1035\n",
              "6     1047\n",
              "7     1075\n",
              "8      989\n",
              "9     1053\n",
              "10     965\n",
              "11     977\n",
              "12     955\n",
              "13     978\n",
              "14    1022\n",
              "15     973\n",
              "16     982\n",
              "17     999\n",
              "18     981\n",
              "19     986\n",
              "20    1030\n",
              "21     964\n",
              "22     958\n",
              "23     958\n",
              "Name: code, dtype: int64"
            ]
          },
          "metadata": {
            "tags": []
          },
          "execution_count": 150
        }
      ]
    },
    {
      "cell_type": "code",
      "metadata": {
        "id": "DtGGgt9e1l7A",
        "colab_type": "code",
        "colab": {
          "base_uri": "https://localhost:8080/",
          "height": 450
        },
        "outputId": "9ed7bb72-5659-4e9a-d395-2bd5e8f8b14e"
      },
      "source": [
        "df[df['link'] =='https://all_to_the_bottom.com/semi_manufactures/\\n'].groupby('ip').count()"
      ],
      "execution_count": 168,
      "outputs": [
        {
          "output_type": "execute_result",
          "data": {
            "text/html": [
              "<div>\n",
              "<style scoped>\n",
              "    .dataframe tbody tr th:only-of-type {\n",
              "        vertical-align: middle;\n",
              "    }\n",
              "\n",
              "    .dataframe tbody tr th {\n",
              "        vertical-align: top;\n",
              "    }\n",
              "\n",
              "    .dataframe thead th {\n",
              "        text-align: right;\n",
              "    }\n",
              "</style>\n",
              "<table border=\"1\" class=\"dataframe\">\n",
              "  <thead>\n",
              "    <tr style=\"text-align: right;\">\n",
              "      <th></th>\n",
              "      <th>api</th>\n",
              "      <th>time</th>\n",
              "      <th>code</th>\n",
              "      <th>infos</th>\n",
              "      <th>link</th>\n",
              "      <th>hours</th>\n",
              "    </tr>\n",
              "    <tr>\n",
              "      <th>ip</th>\n",
              "      <th></th>\n",
              "      <th></th>\n",
              "      <th></th>\n",
              "      <th></th>\n",
              "      <th></th>\n",
              "      <th></th>\n",
              "    </tr>\n",
              "  </thead>\n",
              "  <tbody>\n",
              "    <tr>\n",
              "      <th>0.147.8.189</th>\n",
              "      <td>2</td>\n",
              "      <td>2</td>\n",
              "      <td>2</td>\n",
              "      <td>2</td>\n",
              "      <td>2</td>\n",
              "      <td>2</td>\n",
              "    </tr>\n",
              "    <tr>\n",
              "      <th>0.176.17.253</th>\n",
              "      <td>4</td>\n",
              "      <td>4</td>\n",
              "      <td>4</td>\n",
              "      <td>4</td>\n",
              "      <td>4</td>\n",
              "      <td>4</td>\n",
              "    </tr>\n",
              "    <tr>\n",
              "      <th>0.231.176.149</th>\n",
              "      <td>4</td>\n",
              "      <td>4</td>\n",
              "      <td>4</td>\n",
              "      <td>4</td>\n",
              "      <td>4</td>\n",
              "      <td>4</td>\n",
              "    </tr>\n",
              "    <tr>\n",
              "      <th>0.81.74.117</th>\n",
              "      <td>1</td>\n",
              "      <td>1</td>\n",
              "      <td>1</td>\n",
              "      <td>1</td>\n",
              "      <td>1</td>\n",
              "      <td>1</td>\n",
              "    </tr>\n",
              "    <tr>\n",
              "      <th>1.101.213.183</th>\n",
              "      <td>3</td>\n",
              "      <td>3</td>\n",
              "      <td>3</td>\n",
              "      <td>3</td>\n",
              "      <td>3</td>\n",
              "      <td>3</td>\n",
              "    </tr>\n",
              "    <tr>\n",
              "      <th>...</th>\n",
              "      <td>...</td>\n",
              "      <td>...</td>\n",
              "      <td>...</td>\n",
              "      <td>...</td>\n",
              "      <td>...</td>\n",
              "      <td>...</td>\n",
              "    </tr>\n",
              "    <tr>\n",
              "      <th>99.143.27.102</th>\n",
              "      <td>4</td>\n",
              "      <td>4</td>\n",
              "      <td>4</td>\n",
              "      <td>4</td>\n",
              "      <td>4</td>\n",
              "      <td>4</td>\n",
              "    </tr>\n",
              "    <tr>\n",
              "      <th>99.196.221.246</th>\n",
              "      <td>2</td>\n",
              "      <td>2</td>\n",
              "      <td>2</td>\n",
              "      <td>2</td>\n",
              "      <td>2</td>\n",
              "      <td>2</td>\n",
              "    </tr>\n",
              "    <tr>\n",
              "      <th>99.30.57.204</th>\n",
              "      <td>5</td>\n",
              "      <td>5</td>\n",
              "      <td>5</td>\n",
              "      <td>5</td>\n",
              "      <td>5</td>\n",
              "      <td>5</td>\n",
              "    </tr>\n",
              "    <tr>\n",
              "      <th>99.32.188.129</th>\n",
              "      <td>2</td>\n",
              "      <td>2</td>\n",
              "      <td>2</td>\n",
              "      <td>2</td>\n",
              "      <td>2</td>\n",
              "      <td>2</td>\n",
              "    </tr>\n",
              "    <tr>\n",
              "      <th>99.60.82.81</th>\n",
              "      <td>3</td>\n",
              "      <td>3</td>\n",
              "      <td>3</td>\n",
              "      <td>3</td>\n",
              "      <td>3</td>\n",
              "      <td>3</td>\n",
              "    </tr>\n",
              "  </tbody>\n",
              "</table>\n",
              "<p>843 rows × 6 columns</p>\n",
              "</div>"
            ],
            "text/plain": [
              "                api  time  code  infos  link  hours\n",
              "ip                                                 \n",
              "0.147.8.189       2     2     2      2     2      2\n",
              "0.176.17.253      4     4     4      4     4      4\n",
              "0.231.176.149     4     4     4      4     4      4\n",
              "0.81.74.117       1     1     1      1     1      1\n",
              "1.101.213.183     3     3     3      3     3      3\n",
              "...             ...   ...   ...    ...   ...    ...\n",
              "99.143.27.102     4     4     4      4     4      4\n",
              "99.196.221.246    2     2     2      2     2      2\n",
              "99.30.57.204      5     5     5      5     5      5\n",
              "99.32.188.129     2     2     2      2     2      2\n",
              "99.60.82.81       3     3     3      3     3      3\n",
              "\n",
              "[843 rows x 6 columns]"
            ]
          },
          "metadata": {
            "tags": []
          },
          "execution_count": 168
        }
      ]
    },
    {
      "cell_type": "code",
      "metadata": {
        "id": "LyFm9dDU_NbH",
        "colab_type": "code",
        "colab": {}
      },
      "source": [
        "df['cart'] =  df[df['link'].str.contains('https://all_to_the_bottom.com/cart')]['link'].apply(lambda x: x[-5:-1])"
      ],
      "execution_count": 194,
      "outputs": []
    },
    {
      "cell_type": "code",
      "metadata": {
        "id": "i9lRX9Yv96HJ",
        "colab_type": "code",
        "colab": {}
      },
      "source": [
        "df['pay'] = df[df['link'].str.contains('https://all_to_the_bottom.com/success_pay')]['link'].apply(lambda x: x[-6:-2])"
      ],
      "execution_count": 195,
      "outputs": []
    },
    {
      "cell_type": "code",
      "metadata": {
        "id": "hVtnh5fZFrkx",
        "colab_type": "code",
        "colab": {}
      },
      "source": [
        "cart_l = df['cart'].to_list()\n",
        "pay_l = df['pay'].to_list()"
      ],
      "execution_count": 196,
      "outputs": []
    },
    {
      "cell_type": "code",
      "metadata": {
        "id": "23-vXgykGZ7K",
        "colab_type": "code",
        "colab": {
          "base_uri": "https://localhost:8080/",
          "height": 34
        },
        "outputId": "5b894d6e-8eee-423b-8044-e394d3f58440"
      },
      "source": [
        "cart_l = list(set(cart_l))\n",
        "len(cart_l), len(pay_l)"
      ],
      "execution_count": 197,
      "outputs": [
        {
          "output_type": "execute_result",
          "data": {
            "text/plain": [
              "(811, 24284)"
            ]
          },
          "metadata": {
            "tags": []
          },
          "execution_count": 197
        }
      ]
    },
    {
      "cell_type": "code",
      "metadata": {
        "id": "vVPwwBHoHiez",
        "colab_type": "code",
        "colab": {}
      },
      "source": [
        "df['succ_pay'] = df[df['link'].str.contains('https://all_to_the_bottom.com/pay\\?user_id')]['link'].apply(lambda x: x[x.find('user_id')+8: x.find('&',x.find('user_id')+7)])"
      ],
      "execution_count": 215,
      "outputs": []
    },
    {
      "cell_type": "code",
      "metadata": {
        "id": "0c0WaI28KMPX",
        "colab_type": "code",
        "colab": {
          "base_uri": "https://localhost:8080/",
          "height": 34
        },
        "outputId": "ea531135-c533-4826-ccde-47b2bdf12195"
      },
      "source": [
        "nonzero =0\n",
        "for item in df.groupby('succ_pay')['ip'].count().to_list():\n",
        "  if item > 1:\n",
        "    nonzero+=1\n",
        "nonzero    "
      ],
      "execution_count": 232,
      "outputs": [
        {
          "output_type": "execute_result",
          "data": {
            "text/plain": [
              "77"
            ]
          },
          "metadata": {
            "tags": []
          },
          "execution_count": 232
        }
      ]
    },
    {
      "cell_type": "code",
      "metadata": {
        "id": "km6iXt_HHnC4",
        "colab_type": "code",
        "colab": {
          "base_uri": "https://localhost:8080/",
          "height": 238
        },
        "outputId": "3c64dbb6-843a-4224-8865-4a73f9cce50a"
      },
      "source": [
        "df.groupby('ip')['pay'].count().sort_values()"
      ],
      "execution_count": 204,
      "outputs": [
        {
          "output_type": "execute_result",
          "data": {
            "text/plain": [
              "ip\n",
              "0.147.8.189        0\n",
              "222.246.49.65      0\n",
              "221.129.33.89      0\n",
              "220.211.202.24     0\n",
              "220.167.12.15      0\n",
              "                  ..\n",
              "233.107.243.158    3\n",
              "96.246.203.129     3\n",
              "183.212.49.126     3\n",
              "31.241.137.191     3\n",
              "21.255.184.57      3\n",
              "Name: pay, Length: 999, dtype: int64"
            ]
          },
          "metadata": {
            "tags": []
          },
          "execution_count": 204
        }
      ]
    },
    {
      "cell_type": "code",
      "metadata": {
        "id": "mfcwB17SH9ZZ",
        "colab_type": "code",
        "colab": {}
      },
      "source": [
        ""
      ],
      "execution_count": null,
      "outputs": []
    }
  ]
}